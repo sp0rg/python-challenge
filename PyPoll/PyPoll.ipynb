{
 "cells": [
  {
   "cell_type": "code",
   "execution_count": 1,
   "metadata": {},
   "outputs": [],
   "source": [
    "import os\n",
    "import csv"
   ]
  },
  {
   "cell_type": "code",
   "execution_count": 2,
   "metadata": {},
   "outputs": [],
   "source": [
    "#defines input file and path\n",
    "election_data_csv = os.path.join(\"..\",\"Resources\", \"election_data.csv\")\n",
    "\n",
    "#defines output path and file name\n",
    "output_data_csv = os.path.join(\"pyPoll_output.csv\")"
   ]
  },
  {
   "cell_type": "code",
   "execution_count": 3,
   "metadata": {},
   "outputs": [],
   "source": [
    "#set up lists\n",
    "voterList = []\n",
    "countyList = []\n",
    "candidateList = []"
   ]
  },
  {
   "cell_type": "code",
   "execution_count": 4,
   "metadata": {},
   "outputs": [],
   "source": [
    "#Open file, identify header, create lists\n",
    "with open(election_data_csv,'r') as electionCSV:\n",
    "    \n",
    "    electionRead = csv.reader(electionCSV, delimiter=',')\n",
    "\n",
    "    header = next(electionRead)\n",
    "\n",
    "    for row in electionRead:\n",
    "        #appends each voterID from first column\n",
    "        voterList.append(row[0])\n",
    "        #appends each county from 2nd column\n",
    "        countyList.append(row[1])\n",
    "        #appends each candidate from 3rd column\n",
    "        candidateList.append(row[2])"
   ]
  },
  {
   "cell_type": "code",
   "execution_count": 5,
   "metadata": {},
   "outputs": [],
   "source": [
    "#Calculate total # of votes\n",
    "totalVotes = len(voterList)"
   ]
  },
  {
   "cell_type": "code",
   "execution_count": 6,
   "metadata": {},
   "outputs": [],
   "source": [
    "### CANDIDATE LISTS\n",
    "#Creating a list for each candidate - will use len later to perform calculations\n",
    "khanList = []\n",
    "correyList = []\n",
    "liList = []\n",
    "otooleyList = []\n",
    "\n",
    "for r in range(len(candidateList)):\n",
    "        \n",
    "    if 'Khan' in candidateList[r]:\n",
    "        khanList.append(candidateList[r])\n",
    "    elif 'Correy' in candidateList[r]:\n",
    "        correyList.append(candidateList[r])\n",
    "    elif 'Li' in candidateList[r]:\n",
    "        liList.append(candidateList[r])\n",
    "    elif \"O'Tooley\" in candidateList[r]:\n",
    "        otooleyList.append(candidateList[r])"
   ]
  },
  {
   "cell_type": "code",
   "execution_count": 7,
   "metadata": {},
   "outputs": [],
   "source": [
    "### CANDIDATE RESULTS\n",
    "#create LENs for each candidate and perform calculations\n",
    "khanListLEN = int(len(khanList))\n",
    "correyListLEN = int(len(correyList))\n",
    "liListLEN = int(len(liList))\n",
    "otooleyListLEN = int(len(otooleyList))\n",
    "\n",
    "khanPercent = (khanListLEN / totalVotes) * 100\n",
    "khanPercent = str(round(khanPercent,3))\n",
    "\n",
    "correyPercent = (correyListLEN / totalVotes) * 100\n",
    "correyPercent = str(round(correyPercent,3))\n",
    "\n",
    "liPercent = (liListLEN / totalVotes) * 100\n",
    "liPercent = str(round(liPercent,3))\n",
    "\n",
    "otooleyPercent = (otooleyListLEN / totalVotes) * 100\n",
    "otooleyPercent = str(round(otooleyPercent,3))"
   ]
  },
  {
   "cell_type": "code",
   "execution_count": 8,
   "metadata": {},
   "outputs": [],
   "source": [
    "### WINNER - PART 1\n",
    "#Grabbed unique candidates \n",
    "#originally wanted to bounce against the candidate list and count only values that matched 0,1,2,3\n",
    "#Ended up using below to call\n",
    "candidateUnique = []\n",
    "for r in range(len(candidateList)):\n",
    "        \n",
    "    if candidateList[r] not in candidateUnique:\n",
    "        candidateUnique.append(candidateList[r])\n",
    "\n",
    "#checked the print order to coordinate 'resultCounts' \n",
    "#print(candidateUnique)\n",
    "\n",
    "resultCounts = [khanListLEN,correyListLEN,liListLEN,otooleyListLEN]"
   ]
  },
  {
   "cell_type": "code",
   "execution_count": 9,
   "metadata": {},
   "outputs": [],
   "source": [
    "### WINNER - PART 2\n",
    "#probably a cleaner way to pull all of this, but kind of built things in chunks \n",
    "#and then mooshed them together\n",
    "#Setting a new variable winnerCount up to determine the highest count from resultCounts\n",
    "#Since results and unique candidates are in sync it picks the correct candidate as it loops through\n",
    "winnerCount = 0\n",
    "for r in range(len(resultCounts)):\n",
    "    if resultCounts[r] > winnerCount:\n",
    "        winnerCount = resultCounts[r]\n",
    "        winner = candidateUnique[r]\n",
    "#print(winnerCount,winner)"
   ]
  },
  {
   "cell_type": "code",
   "execution_count": 12,
   "metadata": {},
   "outputs": [
    {
     "name": "stdout",
     "output_type": "stream",
     "text": [
      "Election Results\n",
      "--------------------------\n",
      "Total Votes: 3521001\n",
      "--------------------------\n",
      "Khan: 63.0% (2218231)\n",
      "Correy: 20.0% (704200)\n",
      "Li: 14.0% (492940)\n",
      "O'Tooley: 3.0% (105630)\n",
      "--------------------------\n",
      "Winner: Khan\n",
      "--------------------------\n"
     ]
    }
   ],
   "source": [
    "### PRINT\n",
    "print(\"Election Results\")\n",
    "print('-' * 26)\n",
    "print(f\"Total Votes: {totalVotes}\")\n",
    "print('-' * 26)\n",
    "print(f\"Khan: {khanPercent}% ({khanListLEN})\")\n",
    "print(f\"Correy: {correyPercent}% ({correyListLEN})\")\n",
    "print(f\"Li: {liPercent}% ({liListLEN})\")\n",
    "print(f\"O'Tooley: {otooleyPercent}% ({otooleyListLEN})\")\n",
    "print('-' * 26)\n",
    "print(f\"Winner: {winner}\")\n",
    "print('-' * 26)"
   ]
  },
  {
   "cell_type": "code",
   "execution_count": 11,
   "metadata": {},
   "outputs": [],
   "source": [
    "### Setting up outputs\n",
    "with open(output_data_csv, mode='w', newline='') as summary_txt:\n",
    "    writer = csv.writer(summary_txt)\n",
    "\n",
    "    writer.writerows([\n",
    "        [\"Election Results\"],\n",
    "        ['-' * 26],\n",
    "        [f\"Total Votes: {totalVotes}\"],\n",
    "        ['-' * 26],\n",
    "        [f\"Khan: {khanPercent}% ({khanListLEN})\"],\n",
    "        [f\"Correy: {correyPercent}% ({correyListLEN})\"],\n",
    "        [f\"Li: {liPercent}% ({liListLEN})\"],\n",
    "        [f\"O'Tooley: {otooleyPercent}% ({otooleyListLEN})\"],\n",
    "        ['-' * 26],\n",
    "        [f\"Winner: {winner}\"],\n",
    "        ['-' * 26],\n",
    "    ])"
   ]
  },
  {
   "cell_type": "code",
   "execution_count": null,
   "metadata": {},
   "outputs": [],
   "source": []
  },
  {
   "cell_type": "code",
   "execution_count": null,
   "metadata": {},
   "outputs": [],
   "source": []
  }
 ],
 "metadata": {
  "kernelspec": {
   "display_name": "Python 3",
   "language": "python",
   "name": "python3"
  },
  "language_info": {
   "codemirror_mode": {
    "name": "ipython",
    "version": 3
   },
   "file_extension": ".py",
   "mimetype": "text/x-python",
   "name": "python",
   "nbconvert_exporter": "python",
   "pygments_lexer": "ipython3",
   "version": "3.6.5"
  }
 },
 "nbformat": 4,
 "nbformat_minor": 2
}
