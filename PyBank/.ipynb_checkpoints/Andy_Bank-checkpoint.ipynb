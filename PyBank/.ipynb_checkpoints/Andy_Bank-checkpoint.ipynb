{
 "cells": [
  {
   "cell_type": "code",
   "execution_count": 1,
   "metadata": {},
   "outputs": [],
   "source": [
    "import os\n",
    "import csv\n",
    "\n",
    "budget_data_csv = os.path.join(\"..\",\"Resources\", \"budget_data.csv\")"
   ]
  },
  {
   "cell_type": "code",
   "execution_count": 2,
   "metadata": {},
   "outputs": [],
   "source": [
    "bankMonths = []\n",
    "bankRevenue = []"
   ]
  },
  {
   "cell_type": "code",
   "execution_count": 3,
   "metadata": {},
   "outputs": [],
   "source": [
    "with open(budget_data_csv,'r') as budgetCSV:\n",
    "    \n",
    "    budgetRead = csv.reader(budgetCSV, delimiter=',')\n",
    "\n",
    "    header = next(budgetRead)\n",
    "\n",
    "    for row in budgetRead:\n",
    "        #appends each month from first column\n",
    "        bankMonths.append(row[0])\n",
    "        #appends each rev amt from second column as integer\n",
    "        bankRevenue.append(int(row[1]))"
   ]
  },
  {
   "cell_type": "code",
   "execution_count": 4,
   "metadata": {},
   "outputs": [],
   "source": [
    "totalMonths = len(bankMonths)"
   ]
  },
  {
   "cell_type": "code",
   "execution_count": 5,
   "metadata": {},
   "outputs": [],
   "source": [
    "netPL = 0\n",
    "#for y in range(len(bankRevenue)):\n",
    "#    netPL.append(y)\n",
    "#return netPL\n",
    "#print(int(netPL)\n",
    "#insted of r had rev, shortened for simplification\n",
    "#used the length of bankRevenue list to make range for\n",
    "#number of times to cycle through\n",
    "for r in range(len(bankRevenue)):\n",
    "    netPL += bankRevenue[r]"
   ]
  },
  {
   "cell_type": "code",
   "execution_count": 6,
   "metadata": {},
   "outputs": [],
   "source": [
    "#increase/decreast most-est variables\n",
    "incMost = bankRevenue[0]\n",
    "decMost = bankRevenue[0]\n",
    "monthInc = bankMonths[0]\n",
    "monthDec = bankMonths[0]\n",
    "#forAvg = []\n",
    "#used same mechanism as calculating net prof/loss\n",
    "#could possible include netPL at the end of the statement\n",
    "#did not have the subtraction in there at first\n",
    "#for decrease had to add the subtraction to the elif\n",
    "#not sure why!!!\n",
    "for r in range(len(bankRevenue)):\n",
    "    if bankRevenue[r] >= incMost:\n",
    "        incMost = bankRevenue[r] - bankRevenue[r - 1]\n",
    "        monthInc = bankMonths[r]\n",
    "        #forAvg.append(incMost)\n",
    "    elif bankRevenue[r]  - bankRevenue[r - 1] <= decMost:\n",
    "        decMost = bankRevenue[r] - bankRevenue[r - 1]\n",
    "        monthDec = bankMonths[r]\n",
    "    "
   ]
  },
  {
   "cell_type": "code",
   "execution_count": 16,
   "metadata": {},
   "outputs": [],
   "source": [
    "avgrevChange = []\n",
    "moreAvg = 0\n",
    "somewhatAvg = 0\n",
    "bobeatsBroccoli = 0 #there are only so many ways to say average\n",
    "removeCarrots = 0 #tired of broccoli? bring on the carrots!\n",
    "\n",
    "#calculation to add each iteration of difference\n",
    "for r in range(len(bankRevenue)): \n",
    "    if avgrevChange != 0:\n",
    "        bobeatsBroccoli =  bankRevenue[r] - bankRevenue[r - 1]\n",
    "        avgrevChange.append(bobeatsBroccoli)\n",
    "\n",
    "#kept coming up with zero\n",
    "#assumed that subtracting first row from last row it would throw the sum off later\n",
    "#dug around on the interwebs a bit, but it makes sense\n",
    "#zero indexed takes the first row minus the very last row (-1)\n",
    "removeCarrots = bankRevenue[0] - bankRevenue[-1]\n",
    "\n",
    "#This gets our net - still need to remove those carrots\n",
    "for r in range(len(avgrevChange)):\n",
    "    moreAvg += avgrevChange[r]\n",
    "\n",
    "#takes removes the carrots to get a proper net value\n",
    "evenmoreAvg = moreAvg - removeCarrots\n",
    "\n",
    "#divide for average, then round and all that jazz\n",
    "#had to account that there really should only be 85 pairs of differences\n",
    "#when we removed carrots we took the list from 86 to 85 :)\n",
    "somewhatAvg = evenmoreAvg / (totalMonths - 1)\n",
    "somewhatRnd = str(round(somewhatAvg,2))"
   ]
  },
  {
   "cell_type": "code",
   "execution_count": 17,
   "metadata": {},
   "outputs": [
    {
     "name": "stdout",
     "output_type": "stream",
     "text": [
      "Financial Analysis\n",
      "----------------------------\n",
      "Total Months: 86\n",
      "Total: $38382578\n",
      "Average Change: $-2315.12\n",
      "Greatest Increase in Profits: Feb-2012 ($1926159)\n",
      "Greatest Decrease in Profits: Sep-2013 ($-2196167)\n"
     ]
    }
   ],
   "source": [
    "print(\"Financial Analysis\")\n",
    "print(\"----------------------------\")\n",
    "print(f\"Total Months: {totalMonths}\")\n",
    "print(f\"Total: ${netPL}\")\n",
    "\n",
    "print(f\"Average Change: ${somewhatRnd}\")\n",
    "print(f\"Greatest Increase in Profits: {monthInc} (${incMost})\")\n",
    "print(f\"Greatest Decrease in Profits: {monthDec} (${decMost})\")"
   ]
  },
  {
   "cell_type": "code",
   "execution_count": null,
   "metadata": {},
   "outputs": [],
   "source": []
  }
 ],
 "metadata": {
  "kernelspec": {
   "display_name": "Python 3",
   "language": "python",
   "name": "python3"
  },
  "language_info": {
   "codemirror_mode": {
    "name": "ipython",
    "version": 3
   },
   "file_extension": ".py",
   "mimetype": "text/x-python",
   "name": "python",
   "nbconvert_exporter": "python",
   "pygments_lexer": "ipython3",
   "version": "3.6.5"
  }
 },
 "nbformat": 4,
 "nbformat_minor": 2
}
