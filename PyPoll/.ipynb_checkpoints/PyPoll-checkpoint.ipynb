{
 "cells": [
  {
   "cell_type": "code",
   "execution_count": 1,
   "metadata": {},
   "outputs": [],
   "source": [
    "import os\n",
    "import csv"
   ]
  },
  {
   "cell_type": "code",
   "execution_count": 2,
   "metadata": {},
   "outputs": [],
   "source": [
    "election_data_csv = os.path.join(\"..\",\"Resources\", \"election_data.csv\")"
   ]
  },
  {
   "cell_type": "code",
   "execution_count": 3,
   "metadata": {},
   "outputs": [],
   "source": [
    "voterList = []\n",
    "countyList = []\n",
    "candidateList = []"
   ]
  },
  {
   "cell_type": "code",
   "execution_count": 4,
   "metadata": {},
   "outputs": [],
   "source": [
    "with open(election_data_csv,'r') as electionCSV:\n",
    "    \n",
    "    electionRead = csv.reader(electionCSV, delimiter=',')\n",
    "\n",
    "    header = next(electionRead)\n",
    "\n",
    "    for row in electionRead:\n",
    "        #appends each voterID from first column\n",
    "        voterList.append(row[0])\n",
    "        #appends each county from 2nd column\n",
    "        countyList.append(row[1])\n",
    "        #appends each candidate from 3rd column\n",
    "        candidateList.append(row[2])"
   ]
  },
  {
   "cell_type": "code",
   "execution_count": 5,
   "metadata": {},
   "outputs": [
    {
     "name": "stdout",
     "output_type": "stream",
     "text": [
      "Election Results\n",
      "-------------------------\n"
     ]
    }
   ],
   "source": [
    "print(\"Election Results\")\n",
    "print(\"-------------------------\")"
   ]
  },
  {
   "cell_type": "code",
   "execution_count": 6,
   "metadata": {},
   "outputs": [
    {
     "name": "stdout",
     "output_type": "stream",
     "text": [
      "Total Votes: 3521001\n",
      "-------------------------\n"
     ]
    }
   ],
   "source": [
    "#Calculate total # of votes\n",
    "totalVotes = len(voterList)\n",
    "print(f\"Total Votes: {totalVotes}\")\n",
    "print(\"-------------------------\")\n"
   ]
  },
  {
   "cell_type": "code",
   "execution_count": 7,
   "metadata": {
    "scrolled": false
   },
   "outputs": [],
   "source": [
    "#Grabbed unique candidates - not sure that this adds any value\n",
    "#originally wanted to bounce against the candidate list and count only values that matched 0,1,2,3\n",
    "#candidateUnique = []\n",
    "#for r in range(len(candidateList)):\n",
    "        \n",
    "#    if candidateList[r] not in candidateUnique:\n",
    "#        candidateUnique.append(candidateList[r])\n",
    "                \n",
    "#print(candidateUnique)"
   ]
  },
  {
   "cell_type": "code",
   "execution_count": 8,
   "metadata": {},
   "outputs": [],
   "source": [
    "#votesKhan = []\n",
    "#votesKhanTot = 0\n",
    "#for r in range(len(candidateList[r])):\n",
    "#    if 'Khan' in candidateList[r]:\n",
    "#        votesKhan.append(candidateUnique[0])\n",
    "#votesKhanTot = int(len(votesKhan))\n",
    "#print(votesKhan)"
   ]
  },
  {
   "cell_type": "code",
   "execution_count": 9,
   "metadata": {},
   "outputs": [],
   "source": [
    "#khancounter = 0\n",
    "#for r in range(len(candidateList[r])):\n",
    "#    while candidateList[r] = 'Khan':\n",
    "#        khancounter += 1\n",
    "#print(khancounter)"
   ]
  },
  {
   "cell_type": "code",
   "execution_count": 10,
   "metadata": {},
   "outputs": [],
   "source": [
    "#Pulling lists per candidate\n",
    "#\n",
    "\n",
    "khanList = []\n",
    "correyList = []\n",
    "liList = []\n",
    "otooleyList = []\n",
    "\n",
    "for r in range(len(candidateList)):\n",
    "        \n",
    "    if 'Khan' in candidateList[r]:\n",
    "        khanList.append(candidateList[r])\n",
    "    elif 'Correy' in candidateList[r]:\n",
    "        correyList.append(candidateList[r])\n",
    "    elif 'Li' in candidateList[r]:\n",
    "        liList.append(candidateList[r])\n",
    "    elif \"O'Tooley\" in candidateList[r]:\n",
    "        otooleyList.append(candidateList[r])\n",
    "\n",
    "#khanListLEN = int(len(khanList))\n",
    "#correyListLEN = int(len(correyList))\n",
    "#liListLEN = int(len(liList))\n",
    "#otooleyListLEN = int(len(otooleyList))"
   ]
  },
  {
   "cell_type": "code",
   "execution_count": 11,
   "metadata": {},
   "outputs": [
    {
     "name": "stdout",
     "output_type": "stream",
     "text": [
      "Khan: 63.0% (2218231)\n",
      "Correy: 20.0% (704200)\n",
      "Li: 14.0% (492940)\n",
      "O'Tooley: 3.0% (105630)\n",
      "-------------------------\n"
     ]
    }
   ],
   "source": [
    "khanListLEN = int(len(khanList))\n",
    "correyListLEN = int(len(correyList))\n",
    "liListLEN = int(len(liList))\n",
    "otooleyListLEN = int(len(otooleyList))\n",
    "\n",
    "khanPercent = (khanListLEN / totalVotes) * 100\n",
    "khanPercent = str(round(khanPercent,3))\n",
    "#print(khanPercent)\n",
    "print(f\"Khan: {khanPercent}% ({khanListLEN})\")\n",
    "\n",
    "correyPercent = (correyListLEN / totalVotes) * 100\n",
    "correyPercent = str(round(correyPercent,3))\n",
    "print(f\"Correy: {correyPercent}% ({correyListLEN})\")\n",
    "\n",
    "liPercent = (liListLEN / totalVotes) * 100\n",
    "liPercent = str(round(liPercent,3))\n",
    "#print(liPercent)\n",
    "print(f\"Li: {liPercent}% ({liListLEN})\")\n",
    "\n",
    "otooleyPercent = (otooleyListLEN / totalVotes) * 100\n",
    "#otooleyPercent = str(otooleyPercent)\n",
    "otooleyPercent = str(round(otooleyPercent,3))\n",
    "print(f\"O'Tooley: {otooleyPercent}% ({otooleyListLEN})\")\n",
    "print(\"-------------------------\")\n"
   ]
  },
  {
   "cell_type": "code",
   "execution_count": 15,
   "metadata": {},
   "outputs": [
    {
     "name": "stdout",
     "output_type": "stream",
     "text": [
      "[2218231, 704200, 492940, 105630]\n"
     ]
    }
   ],
   "source": [
    "winnerArray = [[\"Khan\",\"Correy\",\"Li\",\"O'Tooley\"],[khanListLEN,correyListLEN,liListLEN,otooleyListLEN]]\n",
    "print(winnerArray[1])"
   ]
  },
  {
   "cell_type": "code",
   "execution_count": null,
   "metadata": {},
   "outputs": [],
   "source": []
  },
  {
   "cell_type": "code",
   "execution_count": null,
   "metadata": {},
   "outputs": [],
   "source": []
  },
  {
   "cell_type": "code",
   "execution_count": null,
   "metadata": {},
   "outputs": [],
   "source": []
  },
  {
   "cell_type": "code",
   "execution_count": null,
   "metadata": {},
   "outputs": [],
   "source": []
  }
 ],
 "metadata": {
  "kernelspec": {
   "display_name": "Python 3",
   "language": "python",
   "name": "python3"
  },
  "language_info": {
   "codemirror_mode": {
    "name": "ipython",
    "version": 3
   },
   "file_extension": ".py",
   "mimetype": "text/x-python",
   "name": "python",
   "nbconvert_exporter": "python",
   "pygments_lexer": "ipython3",
   "version": "3.6.5"
  }
 },
 "nbformat": 4,
 "nbformat_minor": 2
}
